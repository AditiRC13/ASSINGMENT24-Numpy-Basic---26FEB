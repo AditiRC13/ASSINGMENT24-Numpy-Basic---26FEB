{
 "cells": [
  {
   "cell_type": "markdown",
   "id": "20876eae-0095-4f9d-8015-4f9bb915c97d",
   "metadata": {},
   "source": [
    "Consider the below code to answer further questions:"
   ]
  },
  {
   "cell_type": "code",
   "execution_count": 4,
   "id": "523ee6fc-d721-4d5a-8919-b7d43a520ac2",
   "metadata": {},
   "outputs": [],
   "source": [
    "import numpy as np\n",
    "list_ = ['1' , '2' , '3', '4' , '5' ]\n",
    "array_list = np.array(object = list_)"
   ]
  },
  {
   "cell_type": "markdown",
   "id": "58c7f243-1592-458a-b59e-a4a003fc052b",
   "metadata": {},
   "source": [
    "Q1. Is there any difference in the data type of variables list_ and array_list? If there is then write a code to print the data types of both the variables."
   ]
  },
  {
   "cell_type": "markdown",
   "id": "caf0a741-9761-4cc3-919f-04b1326707a5",
   "metadata": {},
   "source": [
    "Arrays need to be declared. Lists don't, since they are built into Python. In the examples above, you saw that lists are created by simply enclosing a sequence of elements into square brackets. Creating an array, on the other hand, requires a specific function from either the array module (i.e., array.array()) or NumPy package (i.e., numpy.array()). Because of this, lists are used more often than arrays."
   ]
  },
  {
   "cell_type": "markdown",
   "id": "c3684e09-e1d9-42ef-972e-cc5d621f7753",
   "metadata": {},
   "source": [
    "Arrays can store data very compactly and are more efficient for storing large amounts of data."
   ]
  },
  {
   "cell_type": "markdown",
   "id": "b532d8dc-3fb2-4430-878b-9c17ce7a0885",
   "metadata": {},
   "source": [
    "Arrays are great for numerical operations; lists cannot directly handle math operations. For example, you can divide each element of an array by the same number with just one line of code. If you try the same with a list, you'll get an error."
   ]
  },
  {
   "cell_type": "code",
   "execution_count": 5,
   "id": "a04d3c29-99a1-413b-9ee4-57e8e9593fc8",
   "metadata": {},
   "outputs": [
    {
     "name": "stdout",
     "output_type": "stream",
     "text": [
      "[1. 2. 3. 4.]\n",
      "<class 'numpy.ndarray'>\n"
     ]
    }
   ],
   "source": [
    "array = np.array([3, 6, 9, 12])\n",
    "division = array/3\n",
    "print(division)\n",
    "print (type(division))"
   ]
  },
  {
   "cell_type": "code",
   "execution_count": 6,
   "id": "0c7b8672-82c3-4cb6-b9f4-ef73da2bd679",
   "metadata": {},
   "outputs": [
    {
     "ename": "TypeError",
     "evalue": "unsupported operand type(s) for /: 'list' and 'int'",
     "output_type": "error",
     "traceback": [
      "\u001b[0;31m---------------------------------------------------------------------------\u001b[0m",
      "\u001b[0;31mTypeError\u001b[0m                                 Traceback (most recent call last)",
      "Cell \u001b[0;32mIn[6], line 2\u001b[0m\n\u001b[1;32m      1\u001b[0m \u001b[38;5;28mlist\u001b[39m \u001b[38;5;241m=\u001b[39m [\u001b[38;5;241m3\u001b[39m, \u001b[38;5;241m6\u001b[39m, \u001b[38;5;241m9\u001b[39m, \u001b[38;5;241m12\u001b[39m]\n\u001b[0;32m----> 2\u001b[0m division \u001b[38;5;241m=\u001b[39m \u001b[38;5;28;43mlist\u001b[39;49m\u001b[38;5;241;43m/\u001b[39;49m\u001b[38;5;241;43m3\u001b[39;49m\n",
      "\u001b[0;31mTypeError\u001b[0m: unsupported operand type(s) for /: 'list' and 'int'"
     ]
    }
   ],
   "source": [
    "list = [3, 6, 9, 12]\n",
    "division = list/3"
   ]
  },
  {
   "cell_type": "markdown",
   "id": "49f0018f-3d47-4dec-8ef7-01b5785df208",
   "metadata": {},
   "source": [
    "Q2. Write a code to print the data type of each and every element of both the variables list_ and\n",
    "arra_list."
   ]
  },
  {
   "cell_type": "code",
   "execution_count": 7,
   "id": "4f1aea13-95d3-48fa-96f5-ceeec71cdfb4",
   "metadata": {},
   "outputs": [
    {
     "data": {
      "text/plain": [
       "dtype('<U1')"
      ]
     },
     "execution_count": 7,
     "metadata": {},
     "output_type": "execute_result"
    }
   ],
   "source": [
    "# array_list\n",
    "array_list.dtype"
   ]
  },
  {
   "cell_type": "code",
   "execution_count": 8,
   "id": "a4765656-6c52-467c-99fb-ba4788a73b90",
   "metadata": {},
   "outputs": [
    {
     "name": "stdout",
     "output_type": "stream",
     "text": [
      "<class 'numpy.str_'>\n",
      "<class 'numpy.str_'>\n",
      "<class 'numpy.str_'>\n",
      "<class 'numpy.str_'>\n",
      "<class 'numpy.str_'>\n"
     ]
    }
   ],
   "source": [
    "for i in array_list: print(type(i))"
   ]
  },
  {
   "cell_type": "code",
   "execution_count": 9,
   "id": "8ca8aaf3-df8a-4df1-9523-9e805ff3d3f5",
   "metadata": {},
   "outputs": [
    {
     "name": "stdout",
     "output_type": "stream",
     "text": [
      "<class 'str'>\n",
      "<class 'str'>\n",
      "<class 'str'>\n",
      "<class 'str'>\n",
      "<class 'str'>\n"
     ]
    }
   ],
   "source": [
    "# list_\n",
    "for i in list_: print(type(i))"
   ]
  },
  {
   "cell_type": "markdown",
   "id": "259efe85-b415-408f-ad46-42e9f338559c",
   "metadata": {},
   "source": [
    "Q3. Considering the following changes in the variable, array_list:"
   ]
  },
  {
   "cell_type": "code",
   "execution_count": 10,
   "id": "4959f2f2-f381-444f-b8fd-ef9d400024e8",
   "metadata": {},
   "outputs": [],
   "source": [
    "array_list = np.array(object = list_, dtype = int)"
   ]
  },
  {
   "cell_type": "markdown",
   "id": "e02a56c1-07af-4728-9984-f88b2a03cbc1",
   "metadata": {},
   "source": [
    "Will there be any difference in the data type of the elements present in both the variables, list_ and\n",
    "arra_list? If so then print the data types of each and every element present in both the variables, list_\n",
    "and arra_list."
   ]
  },
  {
   "cell_type": "markdown",
   "id": "58787a0d-b44e-4afc-8f28-6bda3f42f0d1",
   "metadata": {},
   "source": [
    "Consider the below code to answer further questions:"
   ]
  },
  {
   "cell_type": "markdown",
   "id": "92015b48-499d-4abc-a515-8287a0fcb3db",
   "metadata": {},
   "source": [
    "import numpy as np\n",
    "num_list = [ [ 1 , 2 , 3 ] , [ 4 , 5 , 6 ] ]\n",
    "num_array = np.array(object = num_list)\n",
    "type(num_list)\n",
    "\n"
   ]
  },
  {
   "cell_type": "code",
   "execution_count": 20,
   "id": "8bfda512-a987-4ee2-b05b-c9bb5a94efec",
   "metadata": {},
   "outputs": [
    {
     "data": {
      "text/plain": [
       "numpy.ndarray"
      ]
     },
     "execution_count": 20,
     "metadata": {},
     "output_type": "execute_result"
    }
   ],
   "source": [
    "import numpy as np\n",
    "num_list = [ [ 1 , 2 , 3 ] , [ 4 , 5 , 6 ] ]\n",
    "num_array = np.array(object = num_list)\n",
    "type(num_array)"
   ]
  },
  {
   "cell_type": "code",
   "execution_count": 21,
   "id": "f8055f5b-f097-4076-849f-b34b0a7ea1de",
   "metadata": {},
   "outputs": [
    {
     "data": {
      "text/plain": [
       "[[1, 2, 3], [4, 5, 6]]"
      ]
     },
     "execution_count": 21,
     "metadata": {},
     "output_type": "execute_result"
    }
   ],
   "source": [
    "num_list = [ [ 1 , 2 , 3 ] , [ 4 , 5 , 6 ] ]\n",
    "num_array = np.array(object = num_list)\n",
    "num_list\n"
   ]
  },
  {
   "cell_type": "code",
   "execution_count": 22,
   "id": "2c286f40-e406-409c-bdfc-678d0668daf7",
   "metadata": {},
   "outputs": [
    {
     "data": {
      "text/plain": [
       "array([[1, 2, 3],\n",
       "       [4, 5, 6]])"
      ]
     },
     "execution_count": 22,
     "metadata": {},
     "output_type": "execute_result"
    }
   ],
   "source": [
    "num_list = [ [ 1 , 2 , 3 ] , [ 4 , 5 , 6 ] ]\n",
    "num_array = np.array(object = num_list)\n",
    "num_array"
   ]
  },
  {
   "cell_type": "markdown",
   "id": "81bc86f3-5834-4897-979c-a2ab65482c9b",
   "metadata": {},
   "source": [
    "Q4. Write a code to find the following characteristics of variable, num_array:"
   ]
  },
  {
   "cell_type": "markdown",
   "id": "08408063-5802-419e-bbe9-b2a80befac6f",
   "metadata": {},
   "source": [
    "(i) shape"
   ]
  },
  {
   "cell_type": "markdown",
   "id": "bd3ef5c9-b400-4845-a0d4-a8471f7a2529",
   "metadata": {},
   "source": [
    "\n",
    "(ii) size"
   ]
  },
  {
   "cell_type": "code",
   "execution_count": 23,
   "id": "39c4b0cb-f35a-4f7b-9296-b8d4ac05c4e6",
   "metadata": {},
   "outputs": [
    {
     "data": {
      "text/plain": [
       "(2, 3)"
      ]
     },
     "execution_count": 23,
     "metadata": {},
     "output_type": "execute_result"
    }
   ],
   "source": [
    "#  shape\n",
    "num_array.shape"
   ]
  },
  {
   "cell_type": "code",
   "execution_count": 24,
   "id": "feb1b716-8408-4f97-a883-e2972a09dba9",
   "metadata": {},
   "outputs": [
    {
     "data": {
      "text/plain": [
       "6"
      ]
     },
     "execution_count": 24,
     "metadata": {},
     "output_type": "execute_result"
    }
   ],
   "source": [
    "# size\n",
    "num_array.size"
   ]
  },
  {
   "cell_type": "markdown",
   "id": "a0e54933-2b8d-4264-86f4-2382480aa02e",
   "metadata": {},
   "source": [
    "Q5. Write a code to create numpy array of 3*3 matrix containing zeros only, using a numpy array\n",
    "creation function."
   ]
  },
  {
   "cell_type": "code",
   "execution_count": 31,
   "id": "fc5ee6f0-8114-4205-ba1e-797e3b9cf4fb",
   "metadata": {},
   "outputs": [
    {
     "data": {
      "text/plain": [
       "array([[0., 0., 0.],\n",
       "       [0., 0., 0.],\n",
       "       [0., 0., 0.]])"
      ]
     },
     "execution_count": 31,
     "metadata": {},
     "output_type": "execute_result"
    }
   ],
   "source": [
    "np.zeros((3,3))"
   ]
  },
  {
   "cell_type": "code",
   "execution_count": 32,
   "id": "042c9e8c-81f3-4330-af2a-d64314441a8a",
   "metadata": {},
   "outputs": [
    {
     "data": {
      "text/plain": [
       "matrix([[0., 0., 0.],\n",
       "        [0., 0., 0.],\n",
       "        [0., 0., 0.]])"
      ]
     },
     "execution_count": 32,
     "metadata": {},
     "output_type": "execute_result"
    }
   ],
   "source": [
    "np.matrix(np.zeros((3,3)))"
   ]
  },
  {
   "cell_type": "markdown",
   "id": "d1239230-fd6e-437c-a260-132bcad695cb",
   "metadata": {},
   "source": [
    "Q6. Create an identity matrix of shape (5,5) using numpy functions?"
   ]
  },
  {
   "cell_type": "code",
   "execution_count": 37,
   "id": "88b17fe5-34e1-481e-8b03-3139fbb26134",
   "metadata": {},
   "outputs": [
    {
     "data": {
      "text/plain": [
       "array([[1., 0., 0., 0., 0.],\n",
       "       [0., 1., 0., 0., 0.],\n",
       "       [0., 0., 1., 0., 0.],\n",
       "       [0., 0., 0., 1., 0.],\n",
       "       [0., 0., 0., 0., 1.]])"
      ]
     },
     "execution_count": 37,
     "metadata": {},
     "output_type": "execute_result"
    }
   ],
   "source": [
    "np.eye(5)"
   ]
  },
  {
   "cell_type": "code",
   "execution_count": 38,
   "id": "1512f1d8-6fee-4d22-9d94-f7a1fe0de4bf",
   "metadata": {},
   "outputs": [
    {
     "data": {
      "text/plain": [
       "matrix([[1., 0., 0., 0., 0.],\n",
       "        [0., 1., 0., 0., 0.],\n",
       "        [0., 0., 1., 0., 0.],\n",
       "        [0., 0., 0., 1., 0.],\n",
       "        [0., 0., 0., 0., 1.]])"
      ]
     },
     "execution_count": 38,
     "metadata": {},
     "output_type": "execute_result"
    }
   ],
   "source": [
    "np.matrix(np.eye(5))"
   ]
  },
  {
   "cell_type": "code",
   "execution_count": null,
   "id": "2faafd99-03ae-48a8-be72-1ba100bd1ee1",
   "metadata": {},
   "outputs": [],
   "source": []
  }
 ],
 "metadata": {
  "kernelspec": {
   "display_name": "Python 3 (ipykernel)",
   "language": "python",
   "name": "python3"
  },
  "language_info": {
   "codemirror_mode": {
    "name": "ipython",
    "version": 3
   },
   "file_extension": ".py",
   "mimetype": "text/x-python",
   "name": "python",
   "nbconvert_exporter": "python",
   "pygments_lexer": "ipython3",
   "version": "3.10.8"
  }
 },
 "nbformat": 4,
 "nbformat_minor": 5
}
